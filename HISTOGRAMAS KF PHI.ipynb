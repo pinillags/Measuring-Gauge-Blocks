{
 "cells": [
  {
   "cell_type": "code",
   "execution_count": 1,
   "metadata": {
    "collapsed": true
   },
   "outputs": [],
   "source": [
    "from scipy.optimize import curve_fit\n",
    "import matplotlib.image as mpimg\n",
    "import matplotlib.pyplot as plt\n",
    "import numpy as np"
   ]
  },
  {
   "cell_type": "code",
   "execution_count": 2,
   "outputs": [],
   "source": [
    "def traduccion(name_img):\n",
    "     name = str(name_img)+'.tif'\n",
    "     img = mpimg.imread(name)\n",
    "     return img, np.dot(img[...,:3], [0.2989, 0.5870, 0.1140])"
   ],
   "metadata": {
    "collapsed": false
   }
  },
  {
   "cell_type": "code",
   "execution_count": 3,
   "outputs": [],
   "source": [
    "def acotar(arreglo, centro,dx, filacolumna):\n",
    "\n",
    "     condicion = []\n",
    "     for i in range(centro-dx):\n",
    "          condicion.append(False)\n",
    "     if dx > 0:\n",
    "          for i in range(2*dx+1):\n",
    "               condicion.append(True)\n",
    "     else:\n",
    "          condicion.append(True)\n",
    "\n",
    "     cota = np.compress(condicion, arreglo, axis = filacolumna)\n",
    "     return cota\n",
    "\n",
    "def mean(arreglo,centro,dx, filacolumna):\n",
    "     cota = acotar(arreglo,centro,dx, filacolumna)\n",
    "     return cota.mean(axis=filacolumna)\n",
    "\n",
    "def determinar_max(data,centro,dx, filacol):\n",
    "     rows = mean(data, centro, dx, filacol)\n",
    "\n",
    "     max = 0\n",
    "     posicion = 0\n",
    "     for i in range(len(rows)):\n",
    "          if rows[i] > max:\n",
    "               max = rows[i]\n",
    "               posicion = i\n",
    "     return posicion\n",
    "\n",
    "def seccionar_modelar(data, centro, dx, filacol):\n",
    "\n",
    "     rows = mean(data,centro, dx,filacol)\n",
    "\n",
    "     seccion = []\n",
    "     posicion = determinar_max(data,centro,dx,filacol)\n",
    "     for i in range(81):\n",
    "          seccion.append(rows[i+(posicion-int(81/2))])\n",
    "\n",
    "     return seccion"
   ],
   "metadata": {
    "collapsed": false
   }
  },
  {
   "cell_type": "code",
   "execution_count": 7,
   "outputs": [],
   "source": [
    "def modelo_sinosoidal(x, i0, A, k, phi):\n",
    "     return i0 + A * np.sin(k * x + phi)\n",
    "def ajustar_modelo(lista_acotado):\n",
    "     xvals = np.zeros(len(lista_acotado))\n",
    "     for i in range(len(lista_acotado)):\n",
    "          xvals[i] = i\n",
    "\n",
    "     popt, pcov = curve_fit(modelo_sinosoidal,xvals, lista_acotado,p0=[12.5, 12,1.25/3 , 3.7])\n",
    "     return popt[0],popt[1],popt[2],popt[3]"
   ],
   "metadata": {
    "collapsed": false
   }
  },
  {
   "cell_type": "code",
   "execution_count": 8,
   "outputs": [],
   "source": [
    "collection_piezo = ['0.00', '10.00','15.00', '20.00', '30.01', '40.00','45.01', '50.00', '60.00','74.99']"
   ],
   "metadata": {
    "collapsed": false
   }
  },
  {
   "cell_type": "code",
   "execution_count": 9,
   "outputs": [
    {
     "name": "stdout",
     "output_type": "stream",
     "text": [
      "(1024, 1280)\n"
     ]
    }
   ],
   "source": [
    "img, data = traduccion(collection_piezo[9])\n",
    "rows,cols = data.shape\n",
    "particiones = int(cols/4)\n",
    "print((data.shape))\n",
    "ks, phis = [],[]\n"
   ],
   "metadata": {
    "collapsed": false
   }
  },
  {
   "cell_type": "code",
   "execution_count": 10,
   "outputs": [],
   "source": [
    "for i in range (particiones):\n",
    "    sec = seccionar_modelar(data,2*i+2,2,1)\n",
    "    i0, A, k, phi = ajustar_modelo(sec)\n",
    "    ks.append(k)\n",
    "    phis.append(phi)"
   ],
   "metadata": {
    "collapsed": false
   }
  },
  {
   "cell_type": "code",
   "execution_count": 11,
   "outputs": [
    {
     "data": {
      "text/plain": "<Figure size 432x288 with 2 Axes>",
      "image/png": "[encoded data removed]"
     },
     "metadata": {
      "needs_background": "light"
     },
     "output_type": "display_data"
    }
   ],
   "source": [
    "fig, (ax1, ax2) = plt.subplots(1, 2,constrained_layout=True)\n",
    "fig.suptitle('Histograma Kf, Phi para ' + str(collection_piezo[9]) + 'V')\n",
    "ax1.hist(ks)\n",
    "ax2.hist(phis,color='red')\n",
    "ax1.set_xlabel('Kf[rad/s]')\n",
    "ax1.set_ylabel('Conteos')\n",
    "ax1.set_title('Kf = '+str(round(np.mean(ks),3))+'±'+str(round(np.std(ks),3)))\n",
    "ax2.set_xlabel('Phi[rad]')\n",
    "ax2.set_ylabel('Conteos')\n",
    "ax2.set_title('Phi = '+str(round(np.mean(phis),3))+'±'+str(round(np.std(phis),3)))\n",
    "fig.savefig('Histograma_Piezo_' + str(collection_piezo[9]) + '.png')"
   ],
   "metadata": {
    "collapsed": false
   }
  },
  {
   "cell_type": "code",
   "execution_count": null,
   "outputs": [],
   "source": [],
   "metadata": {
    "collapsed": false
   }
  }
 ],
 "metadata": {
  "kernelspec": {
   "display_name": "Python 3",
   "language": "python",
   "name": "python3"
  },
  "language_info": {
   "codemirror_mode": {
    "name": "ipython",
    "version": 2
   },
   "file_extension": ".py",
   "mimetype": "text/x-python",
   "name": "python",
   "nbconvert_exporter": "python",
   "pygments_lexer": "ipython2",
   "version": "2.7.6"
  }
 },
 "nbformat": 4,
 "nbformat_minor": 0
}
